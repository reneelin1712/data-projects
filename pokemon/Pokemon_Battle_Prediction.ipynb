{
 "cells": [
  {
   "cell_type": "code",
   "execution_count": 1,
   "id": "b5749775",
   "metadata": {},
   "outputs": [],
   "source": [
    "import pandas as pd"
   ]
  },
  {
   "cell_type": "code",
   "execution_count": 2,
   "id": "8b0906d1",
   "metadata": {},
   "outputs": [],
   "source": [
    "pokemon = pd.read_csv('pokemon.csv')"
   ]
  },
  {
   "cell_type": "code",
   "execution_count": 3,
   "id": "d49cac25",
   "metadata": {},
   "outputs": [
    {
     "data": {
      "text/html": [
       "<div>\n",
       "<style scoped>\n",
       "    .dataframe tbody tr th:only-of-type {\n",
       "        vertical-align: middle;\n",
       "    }\n",
       "\n",
       "    .dataframe tbody tr th {\n",
       "        vertical-align: top;\n",
       "    }\n",
       "\n",
       "    .dataframe thead th {\n",
       "        text-align: right;\n",
       "    }\n",
       "</style>\n",
       "<table border=\"1\" class=\"dataframe\">\n",
       "  <thead>\n",
       "    <tr style=\"text-align: right;\">\n",
       "      <th></th>\n",
       "      <th>ID</th>\n",
       "      <th>Name</th>\n",
       "      <th>Type 1</th>\n",
       "      <th>Type 2</th>\n",
       "      <th>HP</th>\n",
       "      <th>Attack</th>\n",
       "      <th>Defense</th>\n",
       "      <th>Sp. Atk</th>\n",
       "      <th>Sp. Def</th>\n",
       "      <th>Speed</th>\n",
       "      <th>Generation</th>\n",
       "      <th>Legendary</th>\n",
       "      <th>Win_Qty</th>\n",
       "      <th>Total_Fights</th>\n",
       "      <th>Win_Percentage</th>\n",
       "      <th>count</th>\n",
       "    </tr>\n",
       "  </thead>\n",
       "  <tbody>\n",
       "    <tr>\n",
       "      <th>0</th>\n",
       "      <td>1</td>\n",
       "      <td>Bulbasaur</td>\n",
       "      <td>Grass</td>\n",
       "      <td>Poison</td>\n",
       "      <td>45</td>\n",
       "      <td>49</td>\n",
       "      <td>49</td>\n",
       "      <td>65</td>\n",
       "      <td>65</td>\n",
       "      <td>45</td>\n",
       "      <td>1</td>\n",
       "      <td>False</td>\n",
       "      <td>37.0</td>\n",
       "      <td>133.0</td>\n",
       "      <td>0.278195</td>\n",
       "      <td>1</td>\n",
       "    </tr>\n",
       "    <tr>\n",
       "      <th>1</th>\n",
       "      <td>2</td>\n",
       "      <td>Ivysaur</td>\n",
       "      <td>Grass</td>\n",
       "      <td>Poison</td>\n",
       "      <td>60</td>\n",
       "      <td>62</td>\n",
       "      <td>63</td>\n",
       "      <td>80</td>\n",
       "      <td>80</td>\n",
       "      <td>60</td>\n",
       "      <td>1</td>\n",
       "      <td>False</td>\n",
       "      <td>46.0</td>\n",
       "      <td>121.0</td>\n",
       "      <td>0.380165</td>\n",
       "      <td>1</td>\n",
       "    </tr>\n",
       "    <tr>\n",
       "      <th>2</th>\n",
       "      <td>3</td>\n",
       "      <td>Venusaur</td>\n",
       "      <td>Grass</td>\n",
       "      <td>Poison</td>\n",
       "      <td>80</td>\n",
       "      <td>82</td>\n",
       "      <td>83</td>\n",
       "      <td>100</td>\n",
       "      <td>100</td>\n",
       "      <td>80</td>\n",
       "      <td>1</td>\n",
       "      <td>False</td>\n",
       "      <td>89.0</td>\n",
       "      <td>132.0</td>\n",
       "      <td>0.674242</td>\n",
       "      <td>1</td>\n",
       "    </tr>\n",
       "    <tr>\n",
       "      <th>3</th>\n",
       "      <td>4</td>\n",
       "      <td>Mega Venusaur</td>\n",
       "      <td>Grass</td>\n",
       "      <td>Poison</td>\n",
       "      <td>80</td>\n",
       "      <td>100</td>\n",
       "      <td>123</td>\n",
       "      <td>122</td>\n",
       "      <td>120</td>\n",
       "      <td>80</td>\n",
       "      <td>1</td>\n",
       "      <td>False</td>\n",
       "      <td>70.0</td>\n",
       "      <td>125.0</td>\n",
       "      <td>0.560000</td>\n",
       "      <td>1</td>\n",
       "    </tr>\n",
       "    <tr>\n",
       "      <th>4</th>\n",
       "      <td>5</td>\n",
       "      <td>Charmander</td>\n",
       "      <td>Fire</td>\n",
       "      <td>NaN</td>\n",
       "      <td>39</td>\n",
       "      <td>52</td>\n",
       "      <td>43</td>\n",
       "      <td>60</td>\n",
       "      <td>50</td>\n",
       "      <td>65</td>\n",
       "      <td>1</td>\n",
       "      <td>False</td>\n",
       "      <td>55.0</td>\n",
       "      <td>112.0</td>\n",
       "      <td>0.491071</td>\n",
       "      <td>1</td>\n",
       "    </tr>\n",
       "    <tr>\n",
       "      <th>...</th>\n",
       "      <td>...</td>\n",
       "      <td>...</td>\n",
       "      <td>...</td>\n",
       "      <td>...</td>\n",
       "      <td>...</td>\n",
       "      <td>...</td>\n",
       "      <td>...</td>\n",
       "      <td>...</td>\n",
       "      <td>...</td>\n",
       "      <td>...</td>\n",
       "      <td>...</td>\n",
       "      <td>...</td>\n",
       "      <td>...</td>\n",
       "      <td>...</td>\n",
       "      <td>...</td>\n",
       "      <td>...</td>\n",
       "    </tr>\n",
       "    <tr>\n",
       "      <th>795</th>\n",
       "      <td>796</td>\n",
       "      <td>Diancie</td>\n",
       "      <td>Rock</td>\n",
       "      <td>Fairy</td>\n",
       "      <td>50</td>\n",
       "      <td>100</td>\n",
       "      <td>150</td>\n",
       "      <td>100</td>\n",
       "      <td>150</td>\n",
       "      <td>50</td>\n",
       "      <td>6</td>\n",
       "      <td>True</td>\n",
       "      <td>39.0</td>\n",
       "      <td>105.0</td>\n",
       "      <td>0.371429</td>\n",
       "      <td>1</td>\n",
       "    </tr>\n",
       "    <tr>\n",
       "      <th>796</th>\n",
       "      <td>797</td>\n",
       "      <td>Mega Diancie</td>\n",
       "      <td>Rock</td>\n",
       "      <td>Fairy</td>\n",
       "      <td>50</td>\n",
       "      <td>160</td>\n",
       "      <td>110</td>\n",
       "      <td>160</td>\n",
       "      <td>110</td>\n",
       "      <td>110</td>\n",
       "      <td>6</td>\n",
       "      <td>True</td>\n",
       "      <td>116.0</td>\n",
       "      <td>131.0</td>\n",
       "      <td>0.885496</td>\n",
       "      <td>1</td>\n",
       "    </tr>\n",
       "    <tr>\n",
       "      <th>797</th>\n",
       "      <td>798</td>\n",
       "      <td>Hoopa Confined</td>\n",
       "      <td>Psychic</td>\n",
       "      <td>Ghost</td>\n",
       "      <td>80</td>\n",
       "      <td>110</td>\n",
       "      <td>60</td>\n",
       "      <td>150</td>\n",
       "      <td>130</td>\n",
       "      <td>70</td>\n",
       "      <td>6</td>\n",
       "      <td>True</td>\n",
       "      <td>60.0</td>\n",
       "      <td>119.0</td>\n",
       "      <td>0.504202</td>\n",
       "      <td>1</td>\n",
       "    </tr>\n",
       "    <tr>\n",
       "      <th>798</th>\n",
       "      <td>799</td>\n",
       "      <td>Hoopa Unbound</td>\n",
       "      <td>Psychic</td>\n",
       "      <td>Dark</td>\n",
       "      <td>80</td>\n",
       "      <td>160</td>\n",
       "      <td>60</td>\n",
       "      <td>170</td>\n",
       "      <td>130</td>\n",
       "      <td>80</td>\n",
       "      <td>6</td>\n",
       "      <td>True</td>\n",
       "      <td>89.0</td>\n",
       "      <td>144.0</td>\n",
       "      <td>0.618056</td>\n",
       "      <td>1</td>\n",
       "    </tr>\n",
       "    <tr>\n",
       "      <th>799</th>\n",
       "      <td>800</td>\n",
       "      <td>Volcanion</td>\n",
       "      <td>Fire</td>\n",
       "      <td>Water</td>\n",
       "      <td>80</td>\n",
       "      <td>110</td>\n",
       "      <td>120</td>\n",
       "      <td>130</td>\n",
       "      <td>90</td>\n",
       "      <td>70</td>\n",
       "      <td>6</td>\n",
       "      <td>True</td>\n",
       "      <td>75.0</td>\n",
       "      <td>121.0</td>\n",
       "      <td>0.619835</td>\n",
       "      <td>1</td>\n",
       "    </tr>\n",
       "  </tbody>\n",
       "</table>\n",
       "<p>800 rows × 16 columns</p>\n",
       "</div>"
      ],
      "text/plain": [
       "      ID            Name   Type 1  Type 2  HP  Attack  Defense  Sp. Atk  \\\n",
       "0      1       Bulbasaur    Grass  Poison  45      49       49       65   \n",
       "1      2         Ivysaur    Grass  Poison  60      62       63       80   \n",
       "2      3        Venusaur    Grass  Poison  80      82       83      100   \n",
       "3      4   Mega Venusaur    Grass  Poison  80     100      123      122   \n",
       "4      5      Charmander     Fire     NaN  39      52       43       60   \n",
       "..   ...             ...      ...     ...  ..     ...      ...      ...   \n",
       "795  796         Diancie     Rock   Fairy  50     100      150      100   \n",
       "796  797    Mega Diancie     Rock   Fairy  50     160      110      160   \n",
       "797  798  Hoopa Confined  Psychic   Ghost  80     110       60      150   \n",
       "798  799   Hoopa Unbound  Psychic    Dark  80     160       60      170   \n",
       "799  800       Volcanion     Fire   Water  80     110      120      130   \n",
       "\n",
       "     Sp. Def  Speed  Generation  Legendary  Win_Qty  Total_Fights  \\\n",
       "0         65     45           1      False     37.0         133.0   \n",
       "1         80     60           1      False     46.0         121.0   \n",
       "2        100     80           1      False     89.0         132.0   \n",
       "3        120     80           1      False     70.0         125.0   \n",
       "4         50     65           1      False     55.0         112.0   \n",
       "..       ...    ...         ...        ...      ...           ...   \n",
       "795      150     50           6       True     39.0         105.0   \n",
       "796      110    110           6       True    116.0         131.0   \n",
       "797      130     70           6       True     60.0         119.0   \n",
       "798      130     80           6       True     89.0         144.0   \n",
       "799       90     70           6       True     75.0         121.0   \n",
       "\n",
       "     Win_Percentage  count  \n",
       "0          0.278195      1  \n",
       "1          0.380165      1  \n",
       "2          0.674242      1  \n",
       "3          0.560000      1  \n",
       "4          0.491071      1  \n",
       "..              ...    ...  \n",
       "795        0.371429      1  \n",
       "796        0.885496      1  \n",
       "797        0.504202      1  \n",
       "798        0.618056      1  \n",
       "799        0.619835      1  \n",
       "\n",
       "[800 rows x 16 columns]"
      ]
     },
     "execution_count": 3,
     "metadata": {},
     "output_type": "execute_result"
    }
   ],
   "source": [
    "pokemon"
   ]
  },
  {
   "cell_type": "markdown",
   "id": "34d4775b",
   "metadata": {},
   "source": [
    "# Input Data"
   ]
  },
  {
   "cell_type": "code",
   "execution_count": 4,
   "id": "bd98c853",
   "metadata": {},
   "outputs": [],
   "source": [
    "# Delete Nan \n",
    "pokemon = pokemon.dropna(axis=0, how='any')"
   ]
  },
  {
   "cell_type": "code",
   "execution_count": 5,
   "id": "3b04d813",
   "metadata": {},
   "outputs": [],
   "source": [
    "# X is features, y is win_percentage\n",
    "X = pokemon.iloc[:, 4:11].values\n",
    "y = pokemon.iloc[:, -2].values"
   ]
  },
  {
   "cell_type": "code",
   "execution_count": 6,
   "id": "16aa278b",
   "metadata": {},
   "outputs": [
    {
     "data": {
      "text/plain": [
       "array([[ 45,  49,  49, ...,  65,  45,   1],\n",
       "       [ 60,  62,  63, ...,  80,  60,   1],\n",
       "       [ 80,  82,  83, ..., 100,  80,   1],\n",
       "       ...,\n",
       "       [ 80, 110,  60, ..., 130,  70,   6],\n",
       "       [ 80, 160,  60, ..., 130,  80,   6],\n",
       "       [ 80, 110, 120, ...,  90,  70,   6]])"
      ]
     },
     "execution_count": 6,
     "metadata": {},
     "output_type": "execute_result"
    }
   ],
   "source": [
    "X"
   ]
  },
  {
   "cell_type": "code",
   "execution_count": 7,
   "id": "5d8d405d",
   "metadata": {},
   "outputs": [
    {
     "data": {
      "text/plain": [
       "array([0.27819549, 0.38016529, 0.67424242, 0.56      , 0.86466165,\n",
       "       0.85611511, 0.84444444, 0.625     , 0.23423423, 0.13076923,\n",
       "       0.625     , 0.96638655, 0.37301587, 0.52892562, 0.86153846,\n",
       "       0.94444444, 0.44927536, 0.83739837, 0.54098361, 0.56428571,\n",
       "       0.11538462, 0.37931034, 0.7578125 , 0.06293706, 0.21705426,\n",
       "       0.35483871, 0.0942029 , 0.19480519, 0.22377622, 0.65714286,\n",
       "       0.52307692, 0.21296296, 0.37190083, 0.50318471, 0.8034188 ,\n",
       "       0.11851852, 0.21167883, 0.37037037, 0.19672131, 0.15267176,\n",
       "       0.13793103, 0.16783217, 0.44827586, 0.64925373, 0.84615385,\n",
       "       0.51908397, 0.52985075, 0.4765625 , 0.69369369, 0.77192982,\n",
       "       0.86259542, 0.48148148, 0.23529412, 0.38947368, 0.28571429,\n",
       "       0.44444444, 0.89922481, 0.55882353, 0.87943262, 0.73333333,\n",
       "       0.8677686 , 0.61654135, 0.67883212, 0.43884892, 0.1796875 ,\n",
       "       0.35507246, 0.42957746, 0.71818182, 0.96453901, 0.98449612,\n",
       "       0.68345324, 0.76859504, 0.73529412, 0.63043478, 0.92592593,\n",
       "       0.32432432, 0.5       , 0.22764228, 0.62773723, 0.09489051,\n",
       "       0.92622951, 0.52631579, 0.515625  , 0.04347826, 0.23622047,\n",
       "       0.55172414, 0.72727273, 0.2890625 , 0.1557377 , 0.34375   ,\n",
       "       0.40336134, 0.55462185, 0.84444444, 0.72      , 0.048     ,\n",
       "       0.25714286, 0.82278481, 0.24242424, 0.578125  , 0.30081301,\n",
       "       0.69402985, 0.16778523, 0.34482759, 0.69333333, 0.608     ,\n",
       "       0.55      , 0.69117647, 0.62307692, 0.9380531 , 0.07258065,\n",
       "       0.27819549, 0.30508475, 0.20143885, 0.56923077, 0.59541985,\n",
       "       0.52238806, 0.46031746, 0.79856115, 0.94814815, 0.64705882,\n",
       "       0.36220472, 0.22727273, 0.29496403, 0.4057971 , 0.56451613,\n",
       "       0.8699187 , 0.71962617, 0.83458647, 0.94444444, 0.36734694,\n",
       "       0.64227642, 0.84552846, 0.28378378, 0.47794118, 0.59230769,\n",
       "       0.52173913, 0.39568345, 0.07936508, 0.28346457, 0.56097561,\n",
       "       0.42477876, 0.64227642, 0.688     , 0.90909091, 0.46666667,\n",
       "       0.47580645, 0.16083916, 0.26470588, 0.64615385, 0.80833333,\n",
       "       0.3671875 , 0.4375    , 0.51538462, 0.21929825, 0.92307692,\n",
       "       0.33064516, 0.0962963 , 0.40495868, 0.43065693, 0.3902439 ,\n",
       "       0.37588652, 0.22222222, 0.25352113, 0.41176471, 0.32374101,\n",
       "       0.73214286, 0.7007874 , 0.45689655, 0.51162791, 0.81060606,\n",
       "       0.95      , 0.15833333, 0.23214286, 0.28244275, 0.56451613,\n",
       "       0.90517241, 0.46478873, 0.29268293, 0.656     , 0.65693431,\n",
       "       0.53076923, 0.5       , 0.47297297, 0.33333333, 0.28099174,\n",
       "       0.40939597, 0.59836066, 0.12096774, 0.203125  , 0.54      ,\n",
       "       0.33035714, 0.41791045, 0.0610687 , 0.23880597, 0.5033557 ,\n",
       "       0.42537313, 0.82481752, 0.93984962, 0.15037594, 0.30882353,\n",
       "       0.51818182, 0.86923077, 0.87218045, 0.856     , 0.89814815,\n",
       "       0.75206612, 0.82857143, 0.94776119, 0.87581699, 0.34513274,\n",
       "       0.64227642, 0.91275168, 0.46341463, 0.43548387, 0.6302521 ,\n",
       "       0.83088235, 0.60431655, 0.28205128, 0.69117647, 0.112     ,\n",
       "       0.19834711, 0.16666667, 0.17054264, 0.26086957, 0.48148148,\n",
       "       0.42307692, 0.26771654, 0.17741935, 0.62831858, 0.625     ,\n",
       "       0.96124031, 0.56      , 0.71428571, 0.12727273, 0.26241135,\n",
       "       0.30833333, 0.74496644, 0.24576271, 0.25925926, 0.61654135,\n",
       "       0.76377953, 0.70833333, 0.75      , 0.88888889, 0.44680851,\n",
       "       0.73333333, 0.25438596, 0.6640625 , 0.24074074, 0.18181818,\n",
       "       0.49586777, 0.42465753, 0.97478992, 0.53389831, 0.45192308,\n",
       "       0.57936508, 0.79824561, 0.82575758, 0.5862069 , 0.62773723,\n",
       "       0.86153846, 0.2       , 0.65942029, 0.59166667, 0.69911504,\n",
       "       0.77586207, 0.703125  , 0.72727273, 0.73134328, 0.78807947,\n",
       "       0.77181208, 0.64885496, 0.66666667, 0.6641791 , 0.94067797,\n",
       "       0.8778626 , 0.38194444, 0.52173913, 0.29220779, 0.48387097,\n",
       "       0.78461538, 0.58536585, 0.88793103, 0.77443609, 0.36363636,\n",
       "       0.43548387, 0.57142857, 0.25735294, 0.21138211, 0.79338843,\n",
       "       0.28030303, 0.26262626, 0.92982456, 0.36220472, 0.88888889,\n",
       "       0.53731343, 0.57522124, 0.84090909, 0.35245902, 0.32575758,\n",
       "       0.33613445, 0.29357798, 0.50413223, 0.71710526, 0.23255814,\n",
       "       0.32142857, 0.55932203, 0.9140625 , 0.36290323, 0.86554622,\n",
       "       0.58823529, 0.74166667, 0.79824561, 0.58064516, 0.11666667,\n",
       "       0.20661157, 0.31818182, 0.46376812, 0.83941606, 0.1981982 ,\n",
       "       0.44852941, 0.13675214, 0.42222222, 0.60714286, 0.20138889,\n",
       "       0.3125    , 0.57142857, 0.52293578, 0.60992908, 0.33606557,\n",
       "       0.69230769, 0.45901639, 0.62585034, 0.88059701, 0.27419355,\n",
       "       0.41304348, 0.82170543, 0.42335766, 0.75182482, 0.9140625 ,\n",
       "       0.85365854, 0.896     , 0.864     , 0.86086957, 0.728     ,\n",
       "       0.64935065, 0.87254902, 0.85496183, 0.7734375 , 0.77      ,\n",
       "       0.78125   , 0.86206897, 0.89256198, 0.69014085, 0.95934959,\n",
       "       0.8203125 , 0.45967742, 0.82539683, 0.96062992, 0.53125   ,\n",
       "       0.40441176, 0.72440945, 0.90909091, 0.66666667, 0.44354839,\n",
       "       0.80991736, 0.37398374, 0.3125    , 0.33333333, 0.5       ,\n",
       "       0.52066116, 0.30909091, 0.6835443 , 0.28682171, 0.51492537,\n",
       "       0.11290323, 0.19871795, 0.52678571, 0.78333333, 0.31775701,\n",
       "       0.53947368, 0.23140496, 0.46212121, 0.88429752, 0.87903226,\n",
       "       0.25714286, 0.57377049, 0.23913043, 0.39333333, 0.42608696,\n",
       "       0.4214876 , 0.2519084 , 0.71875   , 0.80991736, 0.57258065,\n",
       "       0.39393939, 0.31496063, 0.93043478, 0.81021898, 0.74766355,\n",
       "       0.37142857, 0.88549618, 0.50420168, 0.61805556, 0.61983471])"
      ]
     },
     "execution_count": 7,
     "metadata": {},
     "output_type": "execute_result"
    }
   ],
   "source": [
    "y"
   ]
  },
  {
   "cell_type": "code",
   "execution_count": 8,
   "id": "2ea42a0c",
   "metadata": {},
   "outputs": [],
   "source": [
    "from sklearn.model_selection import train_test_split\n",
    "X_train, X_test, y_train, y_test = train_test_split(X, y, test_size = 0.2, random_state = 0)"
   ]
  },
  {
   "cell_type": "code",
   "execution_count": 9,
   "id": "6bc4e070",
   "metadata": {},
   "outputs": [
    {
     "data": {
      "text/plain": [
       "(324, 7)"
      ]
     },
     "execution_count": 9,
     "metadata": {},
     "output_type": "execute_result"
    }
   ],
   "source": [
    "X_train.shape"
   ]
  },
  {
   "cell_type": "markdown",
   "id": "c0c5f81f",
   "metadata": {},
   "source": [
    "## Model "
   ]
  },
  {
   "cell_type": "code",
   "execution_count": 10,
   "id": "5f8abbaa",
   "metadata": {},
   "outputs": [],
   "source": [
    "from sklearn.linear_model import LinearRegression\n",
    "from sklearn.svm import SVR\n",
    "from sklearn.tree import DecisionTreeRegressor\n",
    "from sklearn.ensemble import RandomForestRegressor\n",
    "\n",
    "\n",
    "from sklearn.metrics import mean_absolute_error\n",
    "from math import sqrt"
   ]
  },
  {
   "cell_type": "code",
   "execution_count": 11,
   "id": "2b38d227",
   "metadata": {},
   "outputs": [],
   "source": [
    "model_linear = LinearRegression()\n",
    "model_SVM = SVR(kernel = 'linear')\n",
    "model_tree = DecisionTreeRegressor(random_state = 0)\n",
    "model_forest = RandomForestRegressor(n_estimators = 10, random_state = 0)"
   ]
  },
  {
   "cell_type": "markdown",
   "id": "b8e6fbaa",
   "metadata": {},
   "source": [
    "## Training"
   ]
  },
  {
   "cell_type": "code",
   "execution_count": 12,
   "id": "fd1e35bd",
   "metadata": {},
   "outputs": [],
   "source": [
    "def train(X_train, X_test, y_train, y_test,model):\n",
    "    model.fit(X_train, y_train)\n",
    "    print(model.score(X_train, y_train))\n",
    "\n",
    "    y_pred = model.predict(X_test)\n",
    "\n",
    "    mae = mean_absolute_error(y_test, y_pred)\n",
    "    print(\"MAE: \" + str(mae))"
   ]
  },
  {
   "cell_type": "code",
   "execution_count": 13,
   "id": "96ebee88",
   "metadata": {},
   "outputs": [
    {
     "name": "stdout",
     "output_type": "stream",
     "text": [
      "0.9212083808640319\n",
      "MAE: 0.061431695916522255\n"
     ]
    }
   ],
   "source": [
    "train(X_train, X_test, y_train, y_test,model_linear)"
   ]
  },
  {
   "cell_type": "code",
   "execution_count": 14,
   "id": "f39c9be2",
   "metadata": {},
   "outputs": [
    {
     "name": "stdout",
     "output_type": "stream",
     "text": [
      "0.9176684683335602\n",
      "MAE: 0.06197351586682855\n"
     ]
    }
   ],
   "source": [
    "train(X_train, X_test, y_train, y_test,model_SVM)"
   ]
  },
  {
   "cell_type": "code",
   "execution_count": 15,
   "id": "b376097d",
   "metadata": {},
   "outputs": [
    {
     "name": "stdout",
     "output_type": "stream",
     "text": [
      "0.9997862537603549\n",
      "MAE: 0.06848989931464157\n"
     ]
    }
   ],
   "source": [
    "train(X_train, X_test, y_train, y_test,model_tree)"
   ]
  },
  {
   "cell_type": "code",
   "execution_count": 16,
   "id": "48224e4d",
   "metadata": {},
   "outputs": [
    {
     "name": "stdout",
     "output_type": "stream",
     "text": [
      "0.9867345850110855\n",
      "MAE: 0.05016310032470583\n"
     ]
    }
   ],
   "source": [
    "train(X_train, X_test, y_train, y_test,model_forest)"
   ]
  },
  {
   "cell_type": "code",
   "execution_count": null,
   "id": "977a6b36",
   "metadata": {},
   "outputs": [],
   "source": []
  }
 ],
 "metadata": {
  "kernelspec": {
   "display_name": "Python 3 (ipykernel)",
   "language": "python",
   "name": "python3"
  },
  "language_info": {
   "codemirror_mode": {
    "name": "ipython",
    "version": 3
   },
   "file_extension": ".py",
   "mimetype": "text/x-python",
   "name": "python",
   "nbconvert_exporter": "python",
   "pygments_lexer": "ipython3",
   "version": "3.9.7"
  }
 },
 "nbformat": 4,
 "nbformat_minor": 5
}
